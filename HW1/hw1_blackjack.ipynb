{
 "cells": [
  {
   "cell_type": "markdown",
   "metadata": {},
   "source": [
    "# RL and Advanced DL: Домашнее задание 1"
   ]
  },
  {
   "cell_type": "markdown",
   "metadata": {},
   "source": [
    "## Часть первая, с блекджеком и стратегиями\n",
    "Правила блекджека достаточно просты; давайте начнём с самой базовой версии, которая реализована в OpenAI Gym:  \n",
    "* численные значения карт равны от 2 до 10 для карт от двойки до десятки, 10 для валетов, дам и королей;  \n",
    "* туз считается за 11 очков, если общая сумма карт на руке при этом не превосходит 21 (по-английски в этом случае говорят, что на руке есть usable ace), и за 1 очко, если превосходит;  \n",
    "* игроку раздаются две карты, дилеру — одна в открытую и одна в закрытую;  \n",
    "* игрок может совершать одно из двух действий:\n",
    " * hit  — взять ещё одну карту;\n",
    " * stand — не брать больше карт;  \n",
    "* если сумма очков у игрока на руках больше 21, он проигрывает (bust);\n",
    "* если игрок выбирает stand с суммой не больше 21, дилер добирает карты, пока сумма карт в его руке меньше 17;\n",
    "* после этого игрок выигрывает, если дилер либо превышает 21, либо получает сумму очков меньше, чем сумма очков у игрока; при равенстве очков объявляется ничья (ставка возвращается);\n",
    "* в исходных правилах есть ещё дополнительный бонус за natural blackjack: если игрок набирает 21 очко с раздачи, двумя картами, он выигрывает не +1, а +1.5 (полторы ставки)."
   ]
  },
  {
   "cell_type": "code",
   "execution_count": 1,
   "metadata": {},
   "outputs": [],
   "source": [
    "import numpy as np\n",
    "import gym\n",
    "from typing import Tuple, Generator, Any, Callable, Iterable, Dict\n",
    "import matplotlib.pyplot as plt\n",
    "from tqdm import tqdm\n",
    "from collections import defaultdict"
   ]
  },
  {
   "cell_type": "code",
   "execution_count": 2,
   "metadata": {},
   "outputs": [],
   "source": [
    "env = gym.make('Blackjack-v0')"
   ]
  },
  {
   "cell_type": "code",
   "execution_count": 3,
   "metadata": {},
   "outputs": [
    {
     "data": {
      "text/plain": [
       "Tuple(Discrete(32), Discrete(11), Discrete(2))"
      ]
     },
     "execution_count": 3,
     "metadata": {},
     "output_type": "execute_result"
    }
   ],
   "source": [
    "env.observation_space"
   ]
  },
  {
   "cell_type": "code",
   "execution_count": 4,
   "metadata": {},
   "outputs": [],
   "source": [
    "STAND, HIT, DOUBLE = 0, 1, 2"
   ]
  },
  {
   "cell_type": "code",
   "execution_count": 5,
   "metadata": {},
   "outputs": [],
   "source": [
    "def action2str(action: int) -> str:\n",
    "    if action == STAND:\n",
    "        return 'Stand'\n",
    "    if action == HIT:\n",
    "        return 'Hit'\n",
    "    if action == DOUBLE:\n",
    "        return 'Double'\n",
    "    return 'Unknown'"
   ]
  },
  {
   "cell_type": "code",
   "execution_count": 6,
   "metadata": {},
   "outputs": [],
   "source": [
    "def state2str(state: Tuple) -> str:\n",
    "    return f'--\\nplayer: {state[0]}\\ndealer: {state[1]}\\nusable ace: {state[2]}'"
   ]
  },
  {
   "cell_type": "code",
   "execution_count": 7,
   "metadata": {},
   "outputs": [],
   "source": [
    "def human_readable_observations(observations: Iterable[Tuple]) -> None:\n",
    "    return '\\n'.join([f' {i}\\n{state2str(o)}' for i, o in enumerate(observations)])"
   ]
  },
  {
   "cell_type": "markdown",
   "metadata": {},
   "source": [
    "1. Рассмотрим очень простую стратегию: говорить stand, если у нас на руках комбинация в 19, 20 или 21 очко, во всех остальных случаях говорить hit. Используйте методы Монте-Карло, чтобы оценить выигрыш от этой стратегии."
   ]
  },
  {
   "cell_type": "code",
   "execution_count": 8,
   "metadata": {},
   "outputs": [],
   "source": [
    "def simple_policy(observation: Tuple, threshold=19) -> int:\n",
    "    score, dealer, usable_ace = observation\n",
    "    if score < threshold:\n",
    "        return HIT\n",
    "    return STAND"
   ]
  },
  {
   "cell_type": "code",
   "execution_count": 9,
   "metadata": {},
   "outputs": [],
   "source": [
    "def simple_fuzzy_policy(observation: Tuple, threshold=19) -> int:\n",
    "    score, dealer, usable_ace = observation\n",
    "    p = [0.2, 0.8] if score < threshold else [0.8, 0.2]\n",
    "    return np.random.choice([STAND, HIT], p=p)"
   ]
  },
  {
   "cell_type": "code",
   "execution_count": 10,
   "metadata": {},
   "outputs": [],
   "source": [
    "def play_single_game(policy: Callable, verbose: bool = False):\n",
    "    observation, done = env.reset(), False\n",
    "    states, actions, rewards = [], [], []\n",
    "    while not done:\n",
    "        states.append(observation)\n",
    "        action = policy(observation=observation)\n",
    "        actions.append(action)\n",
    "        observation, reward, done, _ = env.step(action)\n",
    "        rewards.append(reward)\n",
    "    if verbose:\n",
    "        print(human_readable_observations(states))\n",
    "        print(state2str(observation))\n",
    "        print(rewards)\n",
    "        print('--------------')\n",
    "#     states.append(observation)\n",
    "    return states, actions, rewards"
   ]
  },
  {
   "cell_type": "code",
   "execution_count": 11,
   "metadata": {},
   "outputs": [],
   "source": [
    "NUM_GAMES = 10000"
   ]
  },
  {
   "cell_type": "code",
   "execution_count": 12,
   "metadata": {},
   "outputs": [],
   "source": [
    "def mc_estimation(policy: Callable, num_games: int = NUM_GAMES, verbose: bool = False):\n",
    "    values = defaultdict(int)\n",
    "    N = defaultdict(int)\n",
    "    avg_reward = 0\n",
    "    moving_avg_rewards = []\n",
    "    for i in tqdm(range(1, num_games)):\n",
    "        if verbose:\n",
    "            print(f'{i}{\"-th\" if i % 10 > 2 or i % 10 == 0 else \"\"} episode')\n",
    "        total_reward_per_episode = 0\n",
    "        states, actions, rewards = play_single_game(policy, verbose=verbose)\n",
    "        avg_reward += sum(rewards)\n",
    "        moving_avg_rewards.append(avg_reward / i)\n",
    "        for j, (s, r) in reversed(list(enumerate(zip(states, rewards)))):\n",
    "            # общая награда в этом эпизоде\n",
    "            total_reward_per_episode += r\n",
    "            if s not in states[:j]:\n",
    "                N[s] += 1\n",
    "                values[s] += (total_reward_per_episode - values[s]) / N[s]\n",
    "    avg_reward /= num_games\n",
    "    return values, avg_reward, moving_avg_rewards"
   ]
  },
  {
   "cell_type": "code",
   "execution_count": 13,
   "metadata": {},
   "outputs": [],
   "source": [
    "def mc_estimation_plot(policies: Iterable[Callable], num_games: int = NUM_GAMES, verbose: bool = False):\n",
    "    fig, ax = plt.subplots(figsize=(20, 8))\n",
    "    for policy in policies:\n",
    "        values, avg_reward, moving_avg_rewards = mc_estimation(policy, num_games, verbose=verbose)\n",
    "        ax.plot(range(len(moving_avg_rewards)), moving_avg_rewards, lw=2, label=policy.__name__)\n",
    "        ax.legend()\n",
    "        print(f'average reward for {policy.__name__} = {avg_reward}')\n",
    "        yield values, avg_reward"
   ]
  },
  {
   "cell_type": "code",
   "execution_count": 14,
   "metadata": {},
   "outputs": [
    {
     "name": "stderr",
     "output_type": "stream",
     "text": [
      "100%|██████████| 9999/9999 [00:00<00:00, 20928.86it/s]\n"
     ]
    },
    {
     "name": "stdout",
     "output_type": "stream",
     "text": [
      "average reward for simple_policy = -0.1992\n",
      "average reward = -0.1992\n"
     ]
    },
    {
     "data": {
      "image/png": "[encoded data removed]",
      "text/plain": [
       "<Figure size 1440x576 with 1 Axes>"
      ]
     },
     "metadata": {
      "needs_background": "light"
     },
     "output_type": "display_data"
    }
   ],
   "source": [
    "policies = [simple_policy] #, simple_fuzzy_policy]\n",
    "values = []\n",
    "for v, avg_reward in mc_estimation_plot(policies=policies, num_games=NUM_GAMES, verbose=False):\n",
    "    values.append(v)\n",
    "    print(f'average reward = {avg_reward}')"
   ]
  },
  {
   "cell_type": "code",
   "execution_count": 15,
   "metadata": {},
   "outputs": [],
   "source": [
    "def plot_values(values):\n",
    "    canvas = np.zeros((22, 11, 2))\n",
    "    fig, axs = plt.subplots(1, 2, figsize=(12, 12))\n",
    "    for key in values:\n",
    "        i, j, k = key\n",
    "        canvas[i, j, 1 if k else 0] = values[key]\n",
    "        \n",
    "    \n",
    "    axs[0].set_title('no usable ace')\n",
    "    axs[0].set_xlabel('dealer')\n",
    "    axs[0].set_ylabel('player')\n",
    "    axs[0].imshow(canvas[:, :, 0], aspect='auto')\n",
    "    \n",
    "    axs[1].set_title('usable ace')\n",
    "    axs[1].set_xlabel('dealer')\n",
    "    axs[1].set_ylabel('player')\n",
    "    axs[1].imshow(canvas[:, :, 1], aspect='auto')"
   ]
  },
  {
   "cell_type": "code",
   "execution_count": 16,
   "metadata": {},
   "outputs": [],
   "source": [
    "# for v in values:\n",
    "#     plot_values(v)"
   ]
  },
  {
   "cell_type": "markdown",
   "metadata": {},
   "source": [
    "2. Реализуйте метод обучения с подкреплением без модели (можно Q-обучение, но рекомендую попробовать и другие, например Monte Carlo control) для обучения стратегии в блекджеке, используя окружение Blackjack-v0 из OpenAI Gym."
   ]
  },
  {
   "cell_type": "code",
   "execution_count": 17,
   "metadata": {},
   "outputs": [],
   "source": [
    "NUM_GAMES = 100000"
   ]
  },
  {
   "cell_type": "code",
   "execution_count": 18,
   "metadata": {},
   "outputs": [],
   "source": [
    "def random_policy(observation: Tuple, num_actions=2, **kwargs) -> int:\n",
    "    return np.random.choice(num_actions, **kwargs)"
   ]
  },
  {
   "cell_type": "code",
   "execution_count": 19,
   "metadata": {},
   "outputs": [],
   "source": [
    "def play_single_game(policy: Callable, \n",
    "                     step: Callable,\n",
    "                     Q: Dict,\n",
    "                     eps: float,\n",
    "                     verbose: bool = False,\n",
    "                     num_actions=2):\n",
    "    observation, done = env.reset(), False\n",
    "    states, actions, rewards = [], [], []\n",
    "    while not done:\n",
    "        states.append(observation)\n",
    "        probs = np.ones(num_actions) / num_actions\n",
    "        if observation in Q:\n",
    "            probs *= eps\n",
    "            probs[np.argmax(Q[observation])] += 1 - eps\n",
    "        action = policy(observation=observation, \n",
    "                        p=probs, \n",
    "                        num_actions=num_actions)\n",
    "        actions.append(action)\n",
    "        observation, reward, done, _ = step(action)\n",
    "        rewards.append(reward)\n",
    "    if verbose:\n",
    "        print(human_readable_observations(states))\n",
    "        print(state2str(observation))\n",
    "        print(rewards)\n",
    "        print('--------------')\n",
    "#     states.append(observation)\n",
    "    return states, actions, rewards\n",
    "        "
   ]
  },
  {
   "cell_type": "code",
   "execution_count": 20,
   "metadata": {},
   "outputs": [],
   "source": [
    "# parameters for mc control\n",
    "EPS_MIN = 0.001\n",
    "EPS_DECAY = 0.9\n",
    "GAMMA = 0.5\n",
    "ALPHA = 0.1\n",
    "# seem as tuned well"
   ]
  },
  {
   "cell_type": "code",
   "execution_count": 21,
   "metadata": {},
   "outputs": [],
   "source": [
    "def mc_control(num_games: int = NUM_GAMES,\n",
    "               step=env.step,\n",
    "               verbose: bool = False,\n",
    "               num_actions=2):\n",
    "    \n",
    "    eps = 1.0\n",
    "    Q = defaultdict(lambda: np.zeros(num_actions))\n",
    "    avg_reward = 0\n",
    "    moving_avg_reward = []\n",
    "    for i in tqdm(range(1, num_games)):\n",
    "        eps = max(eps * EPS_DECAY, EPS_MIN)\n",
    "        s, a, r = play_single_game(policy=random_policy,\n",
    "                                   step=step,\n",
    "                                   Q=Q,\n",
    "                                   eps=eps,\n",
    "                                   verbose=verbose,\n",
    "                                   num_actions=num_actions)\n",
    "        avg_reward += sum(r)\n",
    "        moving_avg_reward.append(avg_reward / i)\n",
    "        # Q\n",
    "        for j, (ts, ta, tr) in enumerate(zip(s, a, r)):\n",
    "            # total reward from selected state (ts)\n",
    "            total = sum([r[k] * GAMMA ** (k) for k in range(j, len(r))])\n",
    "            # update Q(state, action)\n",
    "            Q[ts][ta] += ALPHA * (total - Q[ts][ta])\n",
    "    # once we've done, just return policy with best reward (Q-value) on each state\n",
    "    policy = {k: np.argmax(v) for k, v in Q.items()}\n",
    "    avg_reward /= num_games\n",
    "    return Q, policy, avg_reward, moving_avg_reward"
   ]
  },
  {
   "cell_type": "code",
   "execution_count": 22,
   "metadata": {},
   "outputs": [
    {
     "name": "stderr",
     "output_type": "stream",
     "text": [
      "100%|██████████| 99999/99999 [00:15<00:00, 6609.44it/s]\n"
     ]
    }
   ],
   "source": [
    "Q, policy, avg_reward, moving_avg_rewards = mc_control(num_games=NUM_GAMES)"
   ]
  },
  {
   "cell_type": "markdown",
   "metadata": {},
   "source": [
    "3. Сколько выигрывает казино у вашей стратегии? Нарисуйте графики среднего дохода вашего метода (усреднённого по крайней мере по 100000 раздач, а лучше больше) по ходу обучения. Попробуйте подобрать оптимальные гиперпараметры."
   ]
  },
  {
   "cell_type": "code",
   "execution_count": 23,
   "metadata": {},
   "outputs": [
    {
     "name": "stdout",
     "output_type": "stream",
     "text": [
      "average reward: -0.07451\n"
     ]
    },
    {
     "data": {
      "text/plain": [
       "[<matplotlib.lines.Line2D at 0x7f19af332430>]"
      ]
     },
     "execution_count": 23,
     "metadata": {},
     "output_type": "execute_result"
    },
    {
     "data": {
      "image/png": "[encoded data removed]",
      "text/plain": [
       "<Figure size 432x288 with 1 Axes>"
      ]
     },
     "metadata": {
      "needs_background": "light"
     },
     "output_type": "display_data"
    }
   ],
   "source": [
    "print(f'average reward: {avg_reward}')\n",
    "plt.plot(range(len(moving_avg_rewards)), moving_avg_rewards)"
   ]
  },
  {
   "cell_type": "code",
   "execution_count": 24,
   "metadata": {},
   "outputs": [
    {
     "data": {
      "image/png": "[encoded data removed]",
      "text/plain": [
       "<Figure size 864x864 with 2 Axes>"
      ]
     },
     "metadata": {
      "needs_background": "light"
     },
     "output_type": "display_data"
    }
   ],
   "source": [
    "plot_values({k: max(v) for k, v in Q.items()})"
   ]
  },
  {
   "cell_type": "markdown",
   "metadata": {},
   "source": [
    "## Часть вторая, удвоенная\n",
    "В базовый блекджек, описанный в предыдущем разделе, обыграть казино вряд ли получится. Но, к счастью, на этом история не заканчивается. Описанные выше правила были упрощёнными, а на самом деле у игрока есть ещё и другие возможности. Реализовывать split может оказаться непросто, поэтому давайте ограничимся удвоением ставки. Итак, у игрока появляется дополнительное действие:\n",
    " * double — удвоить ставку; при этом больше действий делать нельзя, игроку выдаётся ровно одна дополнительная карта, а выигрыш или проигрыш удваивается."
   ]
  },
  {
   "cell_type": "markdown",
   "metadata": {},
   "source": [
    "4. Реализуйте новый вариант блекджека на основе окружения Blackjack-v0 из OpenAI Gym, в котором разрешено удвоение ставки."
   ]
  },
  {
   "cell_type": "code",
   "execution_count": 25,
   "metadata": {},
   "outputs": [],
   "source": [
    "def step_with_double(action: int):\n",
    "    if action == DOUBLE:\n",
    "        observation, reward, done, info = env.step(HIT)\n",
    "        return observation, reward * 2, True, info\n",
    "    else:\n",
    "        return env.step(action)"
   ]
  },
  {
   "cell_type": "markdown",
   "metadata": {},
   "source": [
    "5. Реализуйте метод обучения с подкреплением без модели для этого варианта, постройте графики, аналогичные п.2."
   ]
  },
  {
   "cell_type": "code",
   "execution_count": 26,
   "metadata": {},
   "outputs": [],
   "source": [
    "NUM_GAMES=300000"
   ]
  },
  {
   "cell_type": "code",
   "execution_count": 27,
   "metadata": {},
   "outputs": [],
   "source": [
    "# parameters for mc control\n",
    "EPS_MIN = 0.01\n",
    "EPS_DECAY = 0.99\n",
    "GAMMA = 0.99\n",
    "ALPHA = 0.02\n",
    "# seem tuned well, but not sure"
   ]
  },
  {
   "cell_type": "code",
   "execution_count": 28,
   "metadata": {},
   "outputs": [
    {
     "name": "stderr",
     "output_type": "stream",
     "text": [
      "100%|██████████| 299999/299999 [00:35<00:00, 8519.39it/s]\n"
     ]
    }
   ],
   "source": [
    "Q, policy, avg_reward, moving_avg_rewards = mc_control(num_games=NUM_GAMES,\n",
    "                                                       num_actions=3,\n",
    "                                                       step=step_with_double)"
   ]
  },
  {
   "cell_type": "code",
   "execution_count": 29,
   "metadata": {},
   "outputs": [
    {
     "name": "stdout",
     "output_type": "stream",
     "text": [
      "average reward = -0.05407666666666667\n"
     ]
    },
    {
     "data": {
      "text/plain": [
       "[<matplotlib.lines.Line2D at 0x7f19af225550>]"
      ]
     },
     "execution_count": 29,
     "metadata": {},
     "output_type": "execute_result"
    },
    {
     "data": {
      "image/png": "[encoded data removed]",
      "text/plain": [
       "<Figure size 432x288 with 1 Axes>"
      ]
     },
     "metadata": {
      "needs_background": "light"
     },
     "output_type": "display_data"
    }
   ],
   "source": [
    "print(f'average reward = {avg_reward}')\n",
    "plt.plot(range(len(moving_avg_rewards)), moving_avg_rewards)"
   ]
  },
  {
   "cell_type": "code",
   "execution_count": 30,
   "metadata": {},
   "outputs": [
    {
     "data": {
      "image/png": "[encoded data removed]",
      "text/plain": [
       "<Figure size 864x864 with 2 Axes>"
      ]
     },
     "metadata": {
      "needs_background": "light"
     },
     "output_type": "display_data"
    }
   ],
   "source": [
    "plot_values({k: max(v) for k, v in Q.items()})"
   ]
  },
  {
   "cell_type": "code",
   "execution_count": null,
   "metadata": {},
   "outputs": [],
   "source": []
  },
  {
   "cell_type": "markdown",
   "metadata": {},
   "source": [
    "## Часть третья, в главной роли — Дастин Хоффман"
   ]
  },
  {
   "cell_type": "markdown",
   "metadata": {},
   "source": [
    "А теперь давайте вспомним, как играют в блекджек настоящие профессионалы. Дело в том, что в оффлайн-казино обычно не перемешивают колоду после каждой раздачи — это слишком замедляло бы игру. После раздачи карты просто раздаются дальше с верха колоды до тех пор, пока карт не останется слишком мало, и только тогда колода перемешивается; давайте для определённости считать, что наше казино будет перемешивать колоду, в которой осталось меньше 15 карт.  \n",
    "Думаю, у вас уже возникла в голове эта картинка:  \n",
    "\n",
    "![title](rainman.png)\n",
    "\n",
    "Действительно, если вы будете запоминать, какие карты уже вышли, у вас будет информация о том, какие карты ещё остались, а это позволяет лучше понять, когда нужно удваивать ставку или делать split, а когда лучше не стоит. В настоящем казино могут раздавать карты сразу из нескольких колод, и заслуга Rain Man’а была в том, что он смог считать карты в шести колодах одновременно. Но мы с вами вооружены компьютерами, так что подсчёт можно считать автоматическим."
   ]
  },
  {
   "cell_type": "markdown",
   "metadata": {},
   "source": [
    "6. Реализуйте вариант окружения Blackjack-v0 из предыдущей части (с удвоением), в котором игрок имеет возможность “считать карты” в колоде. Это можно сделать разными способами; возможно, вам поможет [статья википедии о блекджеке](https://ru.wikipedia.org/wiki/%D0%91%D0%BB%D1%8D%D0%BA%D0%B4%D0%B6%D0%B5%D0%BA) (а возможно, и нет)."
   ]
  },
  {
   "cell_type": "code",
   "execution_count": 31,
   "metadata": {},
   "outputs": [],
   "source": [
    "# not implemented yet"
   ]
  },
  {
   "cell_type": "markdown",
   "metadata": {},
   "source": [
    "7. Реализуйте метод обучения с подкреплением без модели для этого варианта, постройте графики, аналогичные п.2."
   ]
  },
  {
   "cell_type": "code",
   "execution_count": 32,
   "metadata": {},
   "outputs": [],
   "source": [
    "# not implemented yet"
   ]
  },
  {
   "cell_type": "markdown",
   "metadata": {},
   "source": [
    "## Часть четвёртая, опциональная\n",
    "Ну и напоследок ещё парочка опциональных заданий за дополнительные баллы."
   ]
  },
  {
   "cell_type": "markdown",
   "metadata": {},
   "source": [
    "8. Реализуйте поиск стратегии в блекджеке с известной моделью из первой части, решив уравнения Беллмана для V* или Q*. Для этого вам придётся сначала оценить параметры модели, т.е. найти или обучить вероятности переходов между состояниями."
   ]
  },
  {
   "cell_type": "code",
   "execution_count": 33,
   "metadata": {},
   "outputs": [],
   "source": [
    "# not implemented yet"
   ]
  },
  {
   "cell_type": "markdown",
   "metadata": {},
   "source": [
    "9. Реализуйте вариант из второй или третьей части, в котором есть ещё возможность делать split: в случае, когда игроку пришли две одинаковые карты, он может разбить руку на две, внести ещё одну ставку и продолжать играть две руки сразу (как будто за двоих игроков). Скорее всего, обыграть казино получится только в варианте с разрешённым split’ом и подсчётом карт; если получится, это будет отличное завершение проекта!"
   ]
  },
  {
   "cell_type": "code",
   "execution_count": 34,
   "metadata": {},
   "outputs": [],
   "source": [
    "# not implemented yet"
   ]
  }
 ],
 "metadata": {
  "kernelspec": {
   "display_name": "Python 3",
   "language": "python",
   "name": "python3"
  },
  "language_info": {
   "codemirror_mode": {
    "name": "ipython",
    "version": 3
   },
   "file_extension": ".py",
   "mimetype": "text/x-python",
   "name": "python",
   "nbconvert_exporter": "python",
   "pygments_lexer": "ipython3",
   "version": "3.8.3"
  }
 },
 "nbformat": 4,
 "nbformat_minor": 4
}
